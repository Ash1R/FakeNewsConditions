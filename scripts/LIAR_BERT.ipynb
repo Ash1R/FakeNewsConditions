{
  "cells": [
    {
      "cell_type": "code",
      "execution_count": 1,
      "metadata": {
        "id": "U9IbuVxRxjuC",
        "colab": {
          "base_uri": "https://localhost:8080/"
        },
        "outputId": "22ff234a-2434-426d-e273-124652ba2617"
      },
      "outputs": [
        {
          "output_type": "stream",
          "name": "stdout",
          "text": [
            "Looking in indexes: https://pypi.org/simple, https://us-python.pkg.dev/colab-wheels/public/simple/\n",
            "Requirement already satisfied: transformers in /usr/local/lib/python3.7/dist-packages (4.10.3)\n",
            "Requirement already satisfied: regex!=2019.12.17 in /usr/local/lib/python3.7/dist-packages (from transformers) (2022.6.2)\n",
            "Requirement already satisfied: requests in /usr/local/lib/python3.7/dist-packages (from transformers) (2.23.0)\n",
            "Requirement already satisfied: tokenizers<0.11,>=0.10.1 in /usr/local/lib/python3.7/dist-packages (from transformers) (0.10.3)\n",
            "Requirement already satisfied: pyyaml>=5.1 in /usr/local/lib/python3.7/dist-packages (from transformers) (6.0)\n",
            "Requirement already satisfied: packaging in /usr/local/lib/python3.7/dist-packages (from transformers) (21.3)\n",
            "Requirement already satisfied: filelock in /usr/local/lib/python3.7/dist-packages (from transformers) (3.7.1)\n",
            "Requirement already satisfied: importlib-metadata in /usr/local/lib/python3.7/dist-packages (from transformers) (4.12.0)\n",
            "Requirement already satisfied: tqdm>=4.27 in /usr/local/lib/python3.7/dist-packages (from transformers) (4.64.0)\n",
            "Requirement already satisfied: sacremoses in /usr/local/lib/python3.7/dist-packages (from transformers) (0.0.53)\n",
            "Requirement already satisfied: huggingface-hub>=0.0.12 in /usr/local/lib/python3.7/dist-packages (from transformers) (0.8.1)\n",
            "Requirement already satisfied: numpy>=1.17 in /usr/local/lib/python3.7/dist-packages (from transformers) (1.21.6)\n",
            "Requirement already satisfied: typing-extensions>=3.7.4.3 in /usr/local/lib/python3.7/dist-packages (from huggingface-hub>=0.0.12->transformers) (4.1.1)\n",
            "Requirement already satisfied: pyparsing!=3.0.5,>=2.0.2 in /usr/local/lib/python3.7/dist-packages (from packaging->transformers) (3.0.9)\n",
            "Requirement already satisfied: zipp>=0.5 in /usr/local/lib/python3.7/dist-packages (from importlib-metadata->transformers) (3.8.0)\n",
            "Requirement already satisfied: urllib3!=1.25.0,!=1.25.1,<1.26,>=1.21.1 in /usr/local/lib/python3.7/dist-packages (from requests->transformers) (1.24.3)\n",
            "Requirement already satisfied: idna<3,>=2.5 in /usr/local/lib/python3.7/dist-packages (from requests->transformers) (2.10)\n",
            "Requirement already satisfied: certifi>=2017.4.17 in /usr/local/lib/python3.7/dist-packages (from requests->transformers) (2022.6.15)\n",
            "Requirement already satisfied: chardet<4,>=3.0.2 in /usr/local/lib/python3.7/dist-packages (from requests->transformers) (3.0.4)\n",
            "Requirement already satisfied: joblib in /usr/local/lib/python3.7/dist-packages (from sacremoses->transformers) (1.1.0)\n",
            "Requirement already satisfied: six in /usr/local/lib/python3.7/dist-packages (from sacremoses->transformers) (1.15.0)\n",
            "Requirement already satisfied: click in /usr/local/lib/python3.7/dist-packages (from sacremoses->transformers) (7.1.2)\n"
          ]
        }
      ],
      "source": [
        "!pip install transformers"
      ]
    },
    {
      "cell_type": "code",
      "execution_count": 2,
      "metadata": {
        "id": "HYZRIcHe2Zdi",
        "colab": {
          "base_uri": "https://localhost:8080/"
        },
        "outputId": "3076bc9f-b318-442e-f9c4-9e7d098b95a2"
      },
      "outputs": [
        {
          "output_type": "stream",
          "name": "stderr",
          "text": [
            "[nltk_data] Downloading package stopwords to /root/nltk_data...\n",
            "[nltk_data]   Package stopwords is already up-to-date!\n"
          ]
        },
        {
          "output_type": "execute_result",
          "data": {
            "text/plain": [
              "True"
            ]
          },
          "metadata": {},
          "execution_count": 2
        }
      ],
      "source": [
        "import nltk\n",
        "nltk.download('stopwords')"
      ]
    },
    {
      "cell_type": "code",
      "execution_count": 3,
      "metadata": {
        "id": "Va3HA0f90huQ"
      },
      "outputs": [],
      "source": [
        "import pandas as pd\n",
        "import re\n",
        "from nltk.corpus import stopwords\n",
        "import string\n",
        "import re\n",
        "\n",
        "stop_words = stopwords.words('english')\n",
        "punctuations = list(string.punctuation)\n",
        "stop_words.extend(punctuations)\n",
        "\n",
        "data = pd.read_csv(\"train.tsv\", sep=\"\\t\")\n",
        "\n",
        "data.reset_index(inplace = True)\n",
        "\n",
        "data.drop('index', axis = 1, inplace = True)\n",
        "\n",
        "valdata = pd.read_csv(\"valid.tsv\", sep=\"\\t\")\n",
        "\n",
        "valdata.reset_index(inplace = True)\n",
        "\n",
        "valdata.drop('index', axis = 1, inplace = True)\n",
        "\n",
        "\n",
        "\n",
        "def removestopwords(txt):\n",
        "  ans = []\n",
        "  txt = txt[0]\n",
        "  txt = re.sub(r'\\([^]]*\\)', ' ', txt) # removing parenthesis\n",
        "  txt = re.sub(r'\\[[^]]*\\]', ' ', txt) # removing third brackets\n",
        "  txt = re.sub(r'([\\.\\\\\\+\\*\\?\\[\\^\\]\\$\\(\\)\\{\\}\\!\\<\\>\\|\\:\\-\\,\\\"\\”\\“\\‘])', ' ', txt)\n",
        " # print(txt[0].split())\n",
        "  for i in txt.split():\n",
        "    if (i.lower().strip()) not in stop_words:\n",
        "      ans.append((i.lower().strip()))\n",
        "  #print(ans)\n",
        "  ans.append(\" \")\n",
        "  return \" \".join(ans)\n",
        "\n",
        "#this word\n",
        "data = data.dropna()\n",
        "\n",
        "valdata = valdata.dropna()\n",
        "\n",
        "\n",
        "data[\"position\"] = data[\"position\"].to_frame(0).apply(removestopwords, axis = 1)\n",
        "data[\"text\"] = data[\"text\"].to_frame(0).apply(removestopwords, axis = 1)\n",
        "data[\"state\"] = data[\"state\"].to_frame(0).apply(removestopwords, axis = 1)\n",
        "data[\"person\"] = data[\"person\"].to_frame(0).apply(removestopwords, axis = 1)\n",
        "data[\"context\"] = data[\"context\"].to_frame(0).apply(removestopwords, axis = 1)\n",
        "data[\"topic\"] = data[\"topic\"].to_frame(0).apply(removestopwords, axis = 1)\n",
        "\n",
        "\n",
        "valdata[\"position\"] = valdata[\"position\"].to_frame(0).apply(removestopwords, axis = 1)\n",
        "valdata[\"text\"] = valdata[\"text\"].to_frame(0).apply(removestopwords, axis = 1)\n",
        "valdata[\"person\"] = valdata[\"person\"].to_frame(0).apply(removestopwords, axis = 1)\n",
        "valdata[\"state\"] = valdata[\"state\"].to_frame(0).apply(removestopwords, axis = 1)\n",
        "valdata[\"context\"] = valdata[\"context\"].to_frame(0).apply(removestopwords, axis = 1)\n",
        "valdata[\"topic\"] = valdata[\"topic\"].to_frame(0).apply(removestopwords, axis = 1)\n",
        "\n",
        "\n"
      ]
    },
    {
      "cell_type": "code",
      "execution_count": 4,
      "metadata": {
        "id": "hXMnDCXnKtMN",
        "colab": {
          "base_uri": "https://localhost:8080/",
          "height": 1000
        },
        "outputId": "31e0e8f6-dc3f-4afc-fad1-6c4a6f57291a"
      },
      "outputs": [
        {
          "output_type": "execute_result",
          "data": {
            "text/plain": [
              "            file  valid                                               text  \\\n",
              "1      7891.json      0  campaign finance congress taxes  earl blumenau...   \n",
              "2      8169.json      1  poverty  jim francesconi  member state board h...   \n",
              "3       929.json      1  economy stimulus  barack obama  president  ill...   \n",
              "4      9416.json      0  guns  jim rubens  small business owner  new ha...   \n",
              "5      6861.json      1  education state budget  andy berke  lawyer sta...   \n",
              "...          ...    ...                                                ...   \n",
              "4440  10405.json      0  energy job accomplishments  bobby scott  u con...   \n",
              "4441   5479.json      0  health care message machine 2012 voting record...   \n",
              "4442  13021.json      0  candidates biography taxes transparency  donal...   \n",
              "4444   7777.json      0  foreign policy terrorism  jay carney  white ho...   \n",
              "4445  12150.json      0  economy job accomplishments jobs  donald trump...   \n",
              "\n",
              "                                                 topic             person  \\\n",
              "1                    campaign finance congress taxes    earl blumenauer     \n",
              "2                                            poverty    jim francesconi     \n",
              "3                                   economy stimulus       barack obama     \n",
              "4                                               guns         jim rubens     \n",
              "5                             education state budget         andy berke     \n",
              "...                                                ...                ...   \n",
              "4440                      energy job accomplishments        bobby scott     \n",
              "4441  health care message machine 2012 voting record       marcy kaptur     \n",
              "4442         candidates biography taxes transparency       donald trump     \n",
              "4444                        foreign policy terrorism         jay carney     \n",
              "4445                economy job accomplishments jobs       donald trump     \n",
              "\n",
              "                                               position                state  \\\n",
              "1                                    u representative               oregon     \n",
              "2                 member state board higher education               oregon     \n",
              "3                                           president             illinois     \n",
              "4                                small business owner        new hampshire     \n",
              "5                                lawyer state senator            tennessee     \n",
              "...                                                 ...                  ...   \n",
              "4440                                    u congressman             virginia     \n",
              "4441  representative ohio's ninth congressional dist...               ohio     \n",
              "4442                                  president elect             new york     \n",
              "4444                      white house press secretary    district columbia     \n",
              "4445                                  president elect             new york     \n",
              "\n",
              "           party     a      b      c      d     e  \\\n",
              "1       democrat   0.0    1.0    1.0    1.0   0.0   \n",
              "2           none   0.0    1.0    1.0    1.0   0.0   \n",
              "3       democrat  70.0   71.0  160.0  163.0   9.0   \n",
              "4     republican   1.0    1.0    0.0    1.0   0.0   \n",
              "5       democrat   0.0    0.0    0.0    0.0   0.0   \n",
              "...          ...   ...    ...    ...    ...   ...   \n",
              "4440    democrat   1.0    2.0    1.0    5.0   0.0   \n",
              "4441    democrat   0.0    2.0    4.0    4.0   0.0   \n",
              "4442  republican  63.0  114.0   51.0   37.0  61.0   \n",
              "4444        none   2.0    2.0    1.0    2.0   0.0   \n",
              "4445  republican  63.0  114.0   51.0   37.0  61.0   \n",
              "\n",
              "                                                context  \n",
              "1                                u ways means hearing    \n",
              "2                                     opinion article    \n",
              "3                                  interview cbs news    \n",
              "4                       interview gun shop hudson n h    \n",
              "5     letter state senate education committee chairw...  \n",
              "...                                                 ...  \n",
              "4440                                     news release    \n",
              "4441                              campaign commercial    \n",
              "4442                               interview abc news    \n",
              "4444                       white house press briefing    \n",
              "4445                                           speech    \n",
              "\n",
              "[3805 rows x 14 columns]"
            ],
            "text/html": [
              "\n",
              "  <div id=\"df-0278f324-6394-434d-b905-19dcc9226ea8\">\n",
              "    <div class=\"colab-df-container\">\n",
              "      <div>\n",
              "<style scoped>\n",
              "    .dataframe tbody tr th:only-of-type {\n",
              "        vertical-align: middle;\n",
              "    }\n",
              "\n",
              "    .dataframe tbody tr th {\n",
              "        vertical-align: top;\n",
              "    }\n",
              "\n",
              "    .dataframe thead th {\n",
              "        text-align: right;\n",
              "    }\n",
              "</style>\n",
              "<table border=\"1\" class=\"dataframe\">\n",
              "  <thead>\n",
              "    <tr style=\"text-align: right;\">\n",
              "      <th></th>\n",
              "      <th>file</th>\n",
              "      <th>valid</th>\n",
              "      <th>text</th>\n",
              "      <th>topic</th>\n",
              "      <th>person</th>\n",
              "      <th>position</th>\n",
              "      <th>state</th>\n",
              "      <th>party</th>\n",
              "      <th>a</th>\n",
              "      <th>b</th>\n",
              "      <th>c</th>\n",
              "      <th>d</th>\n",
              "      <th>e</th>\n",
              "      <th>context</th>\n",
              "    </tr>\n",
              "  </thead>\n",
              "  <tbody>\n",
              "    <tr>\n",
              "      <th>1</th>\n",
              "      <td>7891.json</td>\n",
              "      <td>0</td>\n",
              "      <td>campaign finance congress taxes  earl blumenau...</td>\n",
              "      <td>campaign finance congress taxes</td>\n",
              "      <td>earl blumenauer</td>\n",
              "      <td>u representative</td>\n",
              "      <td>oregon</td>\n",
              "      <td>democrat</td>\n",
              "      <td>0.0</td>\n",
              "      <td>1.0</td>\n",
              "      <td>1.0</td>\n",
              "      <td>1.0</td>\n",
              "      <td>0.0</td>\n",
              "      <td>u ways means hearing</td>\n",
              "    </tr>\n",
              "    <tr>\n",
              "      <th>2</th>\n",
              "      <td>8169.json</td>\n",
              "      <td>1</td>\n",
              "      <td>poverty  jim francesconi  member state board h...</td>\n",
              "      <td>poverty</td>\n",
              "      <td>jim francesconi</td>\n",
              "      <td>member state board higher education</td>\n",
              "      <td>oregon</td>\n",
              "      <td>none</td>\n",
              "      <td>0.0</td>\n",
              "      <td>1.0</td>\n",
              "      <td>1.0</td>\n",
              "      <td>1.0</td>\n",
              "      <td>0.0</td>\n",
              "      <td>opinion article</td>\n",
              "    </tr>\n",
              "    <tr>\n",
              "      <th>3</th>\n",
              "      <td>929.json</td>\n",
              "      <td>1</td>\n",
              "      <td>economy stimulus  barack obama  president  ill...</td>\n",
              "      <td>economy stimulus</td>\n",
              "      <td>barack obama</td>\n",
              "      <td>president</td>\n",
              "      <td>illinois</td>\n",
              "      <td>democrat</td>\n",
              "      <td>70.0</td>\n",
              "      <td>71.0</td>\n",
              "      <td>160.0</td>\n",
              "      <td>163.0</td>\n",
              "      <td>9.0</td>\n",
              "      <td>interview cbs news</td>\n",
              "    </tr>\n",
              "    <tr>\n",
              "      <th>4</th>\n",
              "      <td>9416.json</td>\n",
              "      <td>0</td>\n",
              "      <td>guns  jim rubens  small business owner  new ha...</td>\n",
              "      <td>guns</td>\n",
              "      <td>jim rubens</td>\n",
              "      <td>small business owner</td>\n",
              "      <td>new hampshire</td>\n",
              "      <td>republican</td>\n",
              "      <td>1.0</td>\n",
              "      <td>1.0</td>\n",
              "      <td>0.0</td>\n",
              "      <td>1.0</td>\n",
              "      <td>0.0</td>\n",
              "      <td>interview gun shop hudson n h</td>\n",
              "    </tr>\n",
              "    <tr>\n",
              "      <th>5</th>\n",
              "      <td>6861.json</td>\n",
              "      <td>1</td>\n",
              "      <td>education state budget  andy berke  lawyer sta...</td>\n",
              "      <td>education state budget</td>\n",
              "      <td>andy berke</td>\n",
              "      <td>lawyer state senator</td>\n",
              "      <td>tennessee</td>\n",
              "      <td>democrat</td>\n",
              "      <td>0.0</td>\n",
              "      <td>0.0</td>\n",
              "      <td>0.0</td>\n",
              "      <td>0.0</td>\n",
              "      <td>0.0</td>\n",
              "      <td>letter state senate education committee chairw...</td>\n",
              "    </tr>\n",
              "    <tr>\n",
              "      <th>...</th>\n",
              "      <td>...</td>\n",
              "      <td>...</td>\n",
              "      <td>...</td>\n",
              "      <td>...</td>\n",
              "      <td>...</td>\n",
              "      <td>...</td>\n",
              "      <td>...</td>\n",
              "      <td>...</td>\n",
              "      <td>...</td>\n",
              "      <td>...</td>\n",
              "      <td>...</td>\n",
              "      <td>...</td>\n",
              "      <td>...</td>\n",
              "      <td>...</td>\n",
              "    </tr>\n",
              "    <tr>\n",
              "      <th>4440</th>\n",
              "      <td>10405.json</td>\n",
              "      <td>0</td>\n",
              "      <td>energy job accomplishments  bobby scott  u con...</td>\n",
              "      <td>energy job accomplishments</td>\n",
              "      <td>bobby scott</td>\n",
              "      <td>u congressman</td>\n",
              "      <td>virginia</td>\n",
              "      <td>democrat</td>\n",
              "      <td>1.0</td>\n",
              "      <td>2.0</td>\n",
              "      <td>1.0</td>\n",
              "      <td>5.0</td>\n",
              "      <td>0.0</td>\n",
              "      <td>news release</td>\n",
              "    </tr>\n",
              "    <tr>\n",
              "      <th>4441</th>\n",
              "      <td>5479.json</td>\n",
              "      <td>0</td>\n",
              "      <td>health care message machine 2012 voting record...</td>\n",
              "      <td>health care message machine 2012 voting record</td>\n",
              "      <td>marcy kaptur</td>\n",
              "      <td>representative ohio's ninth congressional dist...</td>\n",
              "      <td>ohio</td>\n",
              "      <td>democrat</td>\n",
              "      <td>0.0</td>\n",
              "      <td>2.0</td>\n",
              "      <td>4.0</td>\n",
              "      <td>4.0</td>\n",
              "      <td>0.0</td>\n",
              "      <td>campaign commercial</td>\n",
              "    </tr>\n",
              "    <tr>\n",
              "      <th>4442</th>\n",
              "      <td>13021.json</td>\n",
              "      <td>0</td>\n",
              "      <td>candidates biography taxes transparency  donal...</td>\n",
              "      <td>candidates biography taxes transparency</td>\n",
              "      <td>donald trump</td>\n",
              "      <td>president elect</td>\n",
              "      <td>new york</td>\n",
              "      <td>republican</td>\n",
              "      <td>63.0</td>\n",
              "      <td>114.0</td>\n",
              "      <td>51.0</td>\n",
              "      <td>37.0</td>\n",
              "      <td>61.0</td>\n",
              "      <td>interview abc news</td>\n",
              "    </tr>\n",
              "    <tr>\n",
              "      <th>4444</th>\n",
              "      <td>7777.json</td>\n",
              "      <td>0</td>\n",
              "      <td>foreign policy terrorism  jay carney  white ho...</td>\n",
              "      <td>foreign policy terrorism</td>\n",
              "      <td>jay carney</td>\n",
              "      <td>white house press secretary</td>\n",
              "      <td>district columbia</td>\n",
              "      <td>none</td>\n",
              "      <td>2.0</td>\n",
              "      <td>2.0</td>\n",
              "      <td>1.0</td>\n",
              "      <td>2.0</td>\n",
              "      <td>0.0</td>\n",
              "      <td>white house press briefing</td>\n",
              "    </tr>\n",
              "    <tr>\n",
              "      <th>4445</th>\n",
              "      <td>12150.json</td>\n",
              "      <td>0</td>\n",
              "      <td>economy job accomplishments jobs  donald trump...</td>\n",
              "      <td>economy job accomplishments jobs</td>\n",
              "      <td>donald trump</td>\n",
              "      <td>president elect</td>\n",
              "      <td>new york</td>\n",
              "      <td>republican</td>\n",
              "      <td>63.0</td>\n",
              "      <td>114.0</td>\n",
              "      <td>51.0</td>\n",
              "      <td>37.0</td>\n",
              "      <td>61.0</td>\n",
              "      <td>speech</td>\n",
              "    </tr>\n",
              "  </tbody>\n",
              "</table>\n",
              "<p>3805 rows × 14 columns</p>\n",
              "</div>\n",
              "      <button class=\"colab-df-convert\" onclick=\"convertToInteractive('df-0278f324-6394-434d-b905-19dcc9226ea8')\"\n",
              "              title=\"Convert this dataframe to an interactive table.\"\n",
              "              style=\"display:none;\">\n",
              "        \n",
              "  <svg xmlns=\"http://www.w3.org/2000/svg\" height=\"24px\"viewBox=\"0 0 24 24\"\n",
              "       width=\"24px\">\n",
              "    <path d=\"M0 0h24v24H0V0z\" fill=\"none\"/>\n",
              "    <path d=\"M18.56 5.44l.94 2.06.94-2.06 2.06-.94-2.06-.94-.94-2.06-.94 2.06-2.06.94zm-11 1L8.5 8.5l.94-2.06 2.06-.94-2.06-.94L8.5 2.5l-.94 2.06-2.06.94zm10 10l.94 2.06.94-2.06 2.06-.94-2.06-.94-.94-2.06-.94 2.06-2.06.94z\"/><path d=\"M17.41 7.96l-1.37-1.37c-.4-.4-.92-.59-1.43-.59-.52 0-1.04.2-1.43.59L10.3 9.45l-7.72 7.72c-.78.78-.78 2.05 0 2.83L4 21.41c.39.39.9.59 1.41.59.51 0 1.02-.2 1.41-.59l7.78-7.78 2.81-2.81c.8-.78.8-2.07 0-2.86zM5.41 20L4 18.59l7.72-7.72 1.47 1.35L5.41 20z\"/>\n",
              "  </svg>\n",
              "      </button>\n",
              "      \n",
              "  <style>\n",
              "    .colab-df-container {\n",
              "      display:flex;\n",
              "      flex-wrap:wrap;\n",
              "      gap: 12px;\n",
              "    }\n",
              "\n",
              "    .colab-df-convert {\n",
              "      background-color: #E8F0FE;\n",
              "      border: none;\n",
              "      border-radius: 50%;\n",
              "      cursor: pointer;\n",
              "      display: none;\n",
              "      fill: #1967D2;\n",
              "      height: 32px;\n",
              "      padding: 0 0 0 0;\n",
              "      width: 32px;\n",
              "    }\n",
              "\n",
              "    .colab-df-convert:hover {\n",
              "      background-color: #E2EBFA;\n",
              "      box-shadow: 0px 1px 2px rgba(60, 64, 67, 0.3), 0px 1px 3px 1px rgba(60, 64, 67, 0.15);\n",
              "      fill: #174EA6;\n",
              "    }\n",
              "\n",
              "    [theme=dark] .colab-df-convert {\n",
              "      background-color: #3B4455;\n",
              "      fill: #D2E3FC;\n",
              "    }\n",
              "\n",
              "    [theme=dark] .colab-df-convert:hover {\n",
              "      background-color: #434B5C;\n",
              "      box-shadow: 0px 1px 3px 1px rgba(0, 0, 0, 0.15);\n",
              "      filter: drop-shadow(0px 1px 2px rgba(0, 0, 0, 0.3));\n",
              "      fill: #FFFFFF;\n",
              "    }\n",
              "  </style>\n",
              "\n",
              "      <script>\n",
              "        const buttonEl =\n",
              "          document.querySelector('#df-0278f324-6394-434d-b905-19dcc9226ea8 button.colab-df-convert');\n",
              "        buttonEl.style.display =\n",
              "          google.colab.kernel.accessAllowed ? 'block' : 'none';\n",
              "\n",
              "        async function convertToInteractive(key) {\n",
              "          const element = document.querySelector('#df-0278f324-6394-434d-b905-19dcc9226ea8');\n",
              "          const dataTable =\n",
              "            await google.colab.kernel.invokeFunction('convertToInteractive',\n",
              "                                                     [key], {});\n",
              "          if (!dataTable) return;\n",
              "\n",
              "          const docLinkHtml = 'Like what you see? Visit the ' +\n",
              "            '<a target=\"_blank\" href=https://colab.research.google.com/notebooks/data_table.ipynb>data table notebook</a>'\n",
              "            + ' to learn more about interactive tables.';\n",
              "          element.innerHTML = '';\n",
              "          dataTable['output_type'] = 'display_data';\n",
              "          await google.colab.output.renderOutput(dataTable, element);\n",
              "          const docLink = document.createElement('div');\n",
              "          docLink.innerHTML = docLinkHtml;\n",
              "          element.appendChild(docLink);\n",
              "        }\n",
              "      </script>\n",
              "    </div>\n",
              "  </div>\n",
              "  "
            ]
          },
          "metadata": {},
          "execution_count": 4
        }
      ],
      "source": [
        "data[\"text\"] = data[\"topic\"] + data[\"person\"] + data[\"position\"] + data[\"state\"] + data[\"party\"] + data[\"text\"]\n",
        "\n",
        "valdata[\"text\"] = valdata[\"topic\"] + valdata[\"person\"] + valdata[\"position\"] + valdata[\"state\"] + valdata[\"party\"] + valdata[\"text\"]\n",
        "\n",
        "#I combined training and validation here, I split them up later\n",
        "#using train_test_split function\n",
        "data = pd.concat([valdata, data])\n",
        "convertdict = {\"pants-fire\": 0, \"false\": 0, \"barely-true\": 0, \"half-true\": 1, \"mostly-true\": 1, \"true\":1}\n",
        "\n",
        "def convert(txt):\n",
        "  return convertdict[txt[0]]\n",
        "\n",
        "data[\"valid\"] = data[\"valid\"].to_frame(0).apply(convert, axis = 1)\n",
        "\n",
        "data"
      ]
    },
    {
      "cell_type": "code",
      "execution_count": 5,
      "metadata": {
        "id": "K-2sTmqAjS63"
      },
      "outputs": [],
      "source": [
        "data = data.drop(columns=[\"file\", \"topic\", \"person\", \"position\", \"state\", \"party\", \"a\", \"b\", \"c\", \"d\", \"e\", \"context\"])\n"
      ]
    },
    {
      "cell_type": "code",
      "execution_count": 6,
      "metadata": {
        "id": "0U2gwi6yjtha",
        "colab": {
          "base_uri": "https://localhost:8080/",
          "height": 424
        },
        "outputId": "0cac4fc1-34e4-4ae8-988e-7cd125eb4fbb"
      },
      "outputs": [
        {
          "output_type": "execute_result",
          "data": {
            "text/plain": [
              "      valid                                               text\n",
              "1         0  campaign finance congress taxes  earl blumenau...\n",
              "2         1  poverty  jim francesconi  member state board h...\n",
              "3         1  economy stimulus  barack obama  president  ill...\n",
              "4         0  guns  jim rubens  small business owner  new ha...\n",
              "5         1  education state budget  andy berke  lawyer sta...\n",
              "...     ...                                                ...\n",
              "4440      0  energy job accomplishments  bobby scott  u con...\n",
              "4441      0  health care message machine 2012 voting record...\n",
              "4442      0  candidates biography taxes transparency  donal...\n",
              "4444      0  foreign policy terrorism  jay carney  white ho...\n",
              "4445      0  economy job accomplishments jobs  donald trump...\n",
              "\n",
              "[3805 rows x 2 columns]"
            ],
            "text/html": [
              "\n",
              "  <div id=\"df-23dbcde4-3fdc-4b97-b8c1-cef25c3c6e00\">\n",
              "    <div class=\"colab-df-container\">\n",
              "      <div>\n",
              "<style scoped>\n",
              "    .dataframe tbody tr th:only-of-type {\n",
              "        vertical-align: middle;\n",
              "    }\n",
              "\n",
              "    .dataframe tbody tr th {\n",
              "        vertical-align: top;\n",
              "    }\n",
              "\n",
              "    .dataframe thead th {\n",
              "        text-align: right;\n",
              "    }\n",
              "</style>\n",
              "<table border=\"1\" class=\"dataframe\">\n",
              "  <thead>\n",
              "    <tr style=\"text-align: right;\">\n",
              "      <th></th>\n",
              "      <th>valid</th>\n",
              "      <th>text</th>\n",
              "    </tr>\n",
              "  </thead>\n",
              "  <tbody>\n",
              "    <tr>\n",
              "      <th>1</th>\n",
              "      <td>0</td>\n",
              "      <td>campaign finance congress taxes  earl blumenau...</td>\n",
              "    </tr>\n",
              "    <tr>\n",
              "      <th>2</th>\n",
              "      <td>1</td>\n",
              "      <td>poverty  jim francesconi  member state board h...</td>\n",
              "    </tr>\n",
              "    <tr>\n",
              "      <th>3</th>\n",
              "      <td>1</td>\n",
              "      <td>economy stimulus  barack obama  president  ill...</td>\n",
              "    </tr>\n",
              "    <tr>\n",
              "      <th>4</th>\n",
              "      <td>0</td>\n",
              "      <td>guns  jim rubens  small business owner  new ha...</td>\n",
              "    </tr>\n",
              "    <tr>\n",
              "      <th>5</th>\n",
              "      <td>1</td>\n",
              "      <td>education state budget  andy berke  lawyer sta...</td>\n",
              "    </tr>\n",
              "    <tr>\n",
              "      <th>...</th>\n",
              "      <td>...</td>\n",
              "      <td>...</td>\n",
              "    </tr>\n",
              "    <tr>\n",
              "      <th>4440</th>\n",
              "      <td>0</td>\n",
              "      <td>energy job accomplishments  bobby scott  u con...</td>\n",
              "    </tr>\n",
              "    <tr>\n",
              "      <th>4441</th>\n",
              "      <td>0</td>\n",
              "      <td>health care message machine 2012 voting record...</td>\n",
              "    </tr>\n",
              "    <tr>\n",
              "      <th>4442</th>\n",
              "      <td>0</td>\n",
              "      <td>candidates biography taxes transparency  donal...</td>\n",
              "    </tr>\n",
              "    <tr>\n",
              "      <th>4444</th>\n",
              "      <td>0</td>\n",
              "      <td>foreign policy terrorism  jay carney  white ho...</td>\n",
              "    </tr>\n",
              "    <tr>\n",
              "      <th>4445</th>\n",
              "      <td>0</td>\n",
              "      <td>economy job accomplishments jobs  donald trump...</td>\n",
              "    </tr>\n",
              "  </tbody>\n",
              "</table>\n",
              "<p>3805 rows × 2 columns</p>\n",
              "</div>\n",
              "      <button class=\"colab-df-convert\" onclick=\"convertToInteractive('df-23dbcde4-3fdc-4b97-b8c1-cef25c3c6e00')\"\n",
              "              title=\"Convert this dataframe to an interactive table.\"\n",
              "              style=\"display:none;\">\n",
              "        \n",
              "  <svg xmlns=\"http://www.w3.org/2000/svg\" height=\"24px\"viewBox=\"0 0 24 24\"\n",
              "       width=\"24px\">\n",
              "    <path d=\"M0 0h24v24H0V0z\" fill=\"none\"/>\n",
              "    <path d=\"M18.56 5.44l.94 2.06.94-2.06 2.06-.94-2.06-.94-.94-2.06-.94 2.06-2.06.94zm-11 1L8.5 8.5l.94-2.06 2.06-.94-2.06-.94L8.5 2.5l-.94 2.06-2.06.94zm10 10l.94 2.06.94-2.06 2.06-.94-2.06-.94-.94-2.06-.94 2.06-2.06.94z\"/><path d=\"M17.41 7.96l-1.37-1.37c-.4-.4-.92-.59-1.43-.59-.52 0-1.04.2-1.43.59L10.3 9.45l-7.72 7.72c-.78.78-.78 2.05 0 2.83L4 21.41c.39.39.9.59 1.41.59.51 0 1.02-.2 1.41-.59l7.78-7.78 2.81-2.81c.8-.78.8-2.07 0-2.86zM5.41 20L4 18.59l7.72-7.72 1.47 1.35L5.41 20z\"/>\n",
              "  </svg>\n",
              "      </button>\n",
              "      \n",
              "  <style>\n",
              "    .colab-df-container {\n",
              "      display:flex;\n",
              "      flex-wrap:wrap;\n",
              "      gap: 12px;\n",
              "    }\n",
              "\n",
              "    .colab-df-convert {\n",
              "      background-color: #E8F0FE;\n",
              "      border: none;\n",
              "      border-radius: 50%;\n",
              "      cursor: pointer;\n",
              "      display: none;\n",
              "      fill: #1967D2;\n",
              "      height: 32px;\n",
              "      padding: 0 0 0 0;\n",
              "      width: 32px;\n",
              "    }\n",
              "\n",
              "    .colab-df-convert:hover {\n",
              "      background-color: #E2EBFA;\n",
              "      box-shadow: 0px 1px 2px rgba(60, 64, 67, 0.3), 0px 1px 3px 1px rgba(60, 64, 67, 0.15);\n",
              "      fill: #174EA6;\n",
              "    }\n",
              "\n",
              "    [theme=dark] .colab-df-convert {\n",
              "      background-color: #3B4455;\n",
              "      fill: #D2E3FC;\n",
              "    }\n",
              "\n",
              "    [theme=dark] .colab-df-convert:hover {\n",
              "      background-color: #434B5C;\n",
              "      box-shadow: 0px 1px 3px 1px rgba(0, 0, 0, 0.15);\n",
              "      filter: drop-shadow(0px 1px 2px rgba(0, 0, 0, 0.3));\n",
              "      fill: #FFFFFF;\n",
              "    }\n",
              "  </style>\n",
              "\n",
              "      <script>\n",
              "        const buttonEl =\n",
              "          document.querySelector('#df-23dbcde4-3fdc-4b97-b8c1-cef25c3c6e00 button.colab-df-convert');\n",
              "        buttonEl.style.display =\n",
              "          google.colab.kernel.accessAllowed ? 'block' : 'none';\n",
              "\n",
              "        async function convertToInteractive(key) {\n",
              "          const element = document.querySelector('#df-23dbcde4-3fdc-4b97-b8c1-cef25c3c6e00');\n",
              "          const dataTable =\n",
              "            await google.colab.kernel.invokeFunction('convertToInteractive',\n",
              "                                                     [key], {});\n",
              "          if (!dataTable) return;\n",
              "\n",
              "          const docLinkHtml = 'Like what you see? Visit the ' +\n",
              "            '<a target=\"_blank\" href=https://colab.research.google.com/notebooks/data_table.ipynb>data table notebook</a>'\n",
              "            + ' to learn more about interactive tables.';\n",
              "          element.innerHTML = '';\n",
              "          dataTable['output_type'] = 'display_data';\n",
              "          await google.colab.output.renderOutput(dataTable, element);\n",
              "          const docLink = document.createElement('div');\n",
              "          docLink.innerHTML = docLinkHtml;\n",
              "          element.appendChild(docLink);\n",
              "        }\n",
              "      </script>\n",
              "    </div>\n",
              "  </div>\n",
              "  "
            ]
          },
          "metadata": {},
          "execution_count": 6
        }
      ],
      "source": [
        "data"
      ]
    },
    {
      "cell_type": "code",
      "execution_count": 7,
      "metadata": {
        "id": "S87sq1mS0RMd",
        "colab": {
          "base_uri": "https://localhost:8080/",
          "height": 158,
          "referenced_widgets": [
            "8a96ba67551149d3b2489b7cc9dbc827",
            "e4694eec58144029a51ecda2bf84ec4f",
            "2dac8396c84e42f4a9809600d3514a03",
            "364dbeb5e0a14c33a33bbc3af56e2c57",
            "7f96654c119f4ec897af3eed695bde4e",
            "de4d15768c1e47f99ac3d221bb89da55",
            "4ca44d56bf8741128cffb8fe0a3fb8c8",
            "06ed7fbcaad54c8cb6563e9653421c1f",
            "61e2795f27c749f68c7999d1c6bbfbe6",
            "1965ca9a12834a95ab71d7f8916fb9b5",
            "5e8a2d4637eb41df80297f786833a1f1"
          ]
        },
        "outputId": "c7809344-5eea-461b-f9f2-fa12cf334c55"
      },
      "outputs": [
        {
          "output_type": "display_data",
          "data": {
            "text/plain": [
              "Downloading:   0%|          | 0.00/466k [00:00<?, ?B/s]"
            ],
            "application/vnd.jupyter.widget-view+json": {
              "version_major": 2,
              "version_minor": 0,
              "model_id": "8a96ba67551149d3b2489b7cc9dbc827"
            }
          },
          "metadata": {}
        },
        {
          "output_type": "stream",
          "name": "stderr",
          "text": [
            "Some layers from the model checkpoint at bert-base-uncased were not used when initializing TFBertModel: ['nsp___cls', 'mlm___cls']\n",
            "- This IS expected if you are initializing TFBertModel from the checkpoint of a model trained on another task or with another architecture (e.g. initializing a BertForSequenceClassification model from a BertForPreTraining model).\n",
            "- This IS NOT expected if you are initializing TFBertModel from the checkpoint of a model that you expect to be exactly identical (initializing a BertForSequenceClassification model from a BertForSequenceClassification model).\n",
            "All the layers of TFBertModel were initialized from the model checkpoint at bert-base-uncased.\n",
            "If your task is similar to the task the model of the checkpoint was trained on, you can already use TFBertModel for predictions without further training.\n"
          ]
        }
      ],
      "source": [
        "from transformers import BertTokenizer, TFBertModel\n",
        "tokenizer = BertTokenizer.from_pretrained('bert-base-uncased')\n",
        "model = TFBertModel.from_pretrained(\"bert-base-uncased\")\n",
        "\n",
        "text1 = \"Replace me by any text you'd like.\"\n",
        "text2 = \"Remove the text\""
      ]
    },
    {
      "cell_type": "code",
      "execution_count": 8,
      "metadata": {
        "id": "mq37rOzc9IG9",
        "colab": {
          "base_uri": "https://localhost:8080/",
          "height": 77
        },
        "outputId": "672344df-8110-49a6-8478-5e4d0262fbb6"
      },
      "outputs": [
        {
          "output_type": "execute_result",
          "data": {
            "text/plain": [
              "<IPython.core.display.Image object>"
            ],
            "image/png": "[encoded data removed]"
          },
          "metadata": {},
          "execution_count": 8
        }
      ],
      "source": [
        "from keras.utils.vis_utils import plot_model\n",
        "\n",
        "plot_model(model) \n"
      ]
    },
    {
      "cell_type": "code",
      "execution_count": 9,
      "metadata": {
        "id": "22b5e3H8zwen",
        "colab": {
          "base_uri": "https://localhost:8080/"
        },
        "outputId": "22c663c2-0f43-44a9-c889-4c8ce104f4e3"
      },
      "outputs": [
        {
          "output_type": "stream",
          "name": "stderr",
          "text": [
            "Truncation was not explicitly activated but `max_length` is provided a specific value, please use `truncation=True` to explicitly truncate examples to max length. Defaulting to 'longest_first' truncation strategy. If you encode pairs of sequences (GLUE-style) with the tokenizer you can select this strategy more precisely by providing a specific strategy to `truncation`.\n",
            "/usr/local/lib/python3.7/dist-packages/transformers/tokenization_utils_base.py:2204: FutureWarning: The `pad_to_max_length` argument is deprecated and will be removed in a future version, use `padding=True` or `padding='longest'` to pad to the longest sequence in the batch, or use `padding='max_length'` to pad to a max length. In this case, you can give a specific length with `max_length` (e.g. `max_length=45`) or leave max_length to None to pad to the maximal input size of the model (e.g. 512 for Bert).\n",
            "  FutureWarning,\n"
          ]
        }
      ],
      "source": [
        "\n",
        "encoded_input1 = tokenizer.encode(text1, max_length=20, pad_to_max_length=True, return_tensors='tf')\n",
        "encoded_input2 = tokenizer.encode(text2, max_length=20, pad_to_max_length=True, return_tensors='tf')\n",
        "\n"
      ]
    },
    {
      "cell_type": "code",
      "execution_count": 10,
      "metadata": {
        "id": "T-0s4cKW0Fav",
        "colab": {
          "base_uri": "https://localhost:8080/"
        },
        "outputId": "7a05d5e2-56f1-4f87-a6ec-7279b72d34f2"
      },
      "outputs": [
        {
          "output_type": "stream",
          "name": "stdout",
          "text": [
            "(1, 20)\n",
            "(1, 20)\n"
          ]
        }
      ],
      "source": [
        "print(encoded_input1.shape)\n",
        "print(encoded_input2.shape)"
      ]
    },
    {
      "cell_type": "code",
      "execution_count": 11,
      "metadata": {
        "id": "fODKUT9n0vH9",
        "colab": {
          "base_uri": "https://localhost:8080/"
        },
        "outputId": "d27b9436-0a55-41fd-d119-feeb1358c92c"
      },
      "outputs": [
        {
          "output_type": "stream",
          "name": "stdout",
          "text": [
            "[<tf.Tensor: shape=(1, 20), dtype=int32, numpy=\n",
            "array([[ 101, 5672, 2033, 2011, 2151, 3793, 2017, 1005, 1040, 2066, 1012,\n",
            "         102,    0,    0,    0,    0,    0,    0,    0,    0]],\n",
            "      dtype=int32)>, <tf.Tensor: shape=(1, 20), dtype=int32, numpy=\n",
            "array([[ 101, 6366, 1996, 3793,  102,    0,    0,    0,    0,    0,    0,\n",
            "           0,    0,    0,    0,    0,    0,    0,    0,    0]],\n",
            "      dtype=int32)>]\n"
          ]
        }
      ],
      "source": [
        "print([encoded_input1, encoded_input2])"
      ]
    },
    {
      "cell_type": "code",
      "execution_count": 12,
      "metadata": {
        "id": "ee2C153izG9T"
      },
      "outputs": [],
      "source": [
        "output = model([encoded_input1, encoded_input2])\n"
      ]
    },
    {
      "cell_type": "code",
      "execution_count": 13,
      "metadata": {
        "id": "UowCRt2COUnT",
        "colab": {
          "base_uri": "https://localhost:8080/"
        },
        "outputId": "32f14a01-d7af-4c89-f215-395fab21910e"
      },
      "outputs": [
        {
          "output_type": "execute_result",
          "data": {
            "text/plain": [
              "(3805,)"
            ]
          },
          "metadata": {},
          "execution_count": 13
        }
      ],
      "source": [
        "text = data.text.values\n",
        "text.shape"
      ]
    },
    {
      "cell_type": "code",
      "execution_count": 14,
      "metadata": {
        "id": "6btuFO4mOh5Q",
        "colab": {
          "base_uri": "https://localhost:8080/"
        },
        "outputId": "96390e0c-3811-4003-8e0e-f7272c21eace"
      },
      "outputs": [
        {
          "output_type": "stream",
          "name": "stderr",
          "text": [
            "/usr/local/lib/python3.7/dist-packages/transformers/tokenization_utils_base.py:2204: FutureWarning: The `pad_to_max_length` argument is deprecated and will be removed in a future version, use `padding=True` or `padding='longest'` to pad to the longest sequence in the batch, or use `padding='max_length'` to pad to a max length. In this case, you can give a specific length with `max_length` (e.g. `max_length=45`) or leave max_length to None to pad to the maximal input size of the model (e.g. 512 for Bert).\n",
            "  FutureWarning,\n"
          ]
        }
      ],
      "source": [
        "input_ids = [tokenizer.encode(i,\n",
        "                              max_length=200,\n",
        "                              pad_to_max_length=True, \n",
        "                              return_tensors=\"tf\") for i in text]"
      ]
    },
    {
      "cell_type": "code",
      "execution_count": 14,
      "metadata": {
        "id": "eVWaZWCfQP5v"
      },
      "outputs": [],
      "source": [
        ""
      ]
    },
    {
      "cell_type": "code",
      "execution_count": 15,
      "metadata": {
        "colab": {
          "base_uri": "https://localhost:8080/"
        },
        "id": "xkDknQtjoFlc",
        "outputId": "c3793a34-8806-437d-825d-be1fc998e67b"
      },
      "outputs": [
        {
          "output_type": "execute_result",
          "data": {
            "text/plain": [
              "(3805, 1, 200, 768)"
            ]
          },
          "metadata": {},
          "execution_count": 15
        }
      ],
      "source": [
        "import numpy as np\n",
        "output = [np.array(model(input_ids[i])['last_hidden_state']) for i in range(3805)]\n",
        "output = np.asarray(output)\n",
        "output.shape"
      ]
    },
    {
      "cell_type": "code",
      "execution_count": 16,
      "metadata": {
        "id": "DELcymYRxAC-"
      },
      "outputs": [],
      "source": [
        "output = output.reshape(3805, 200, 768)"
      ]
    },
    {
      "cell_type": "code",
      "execution_count": 22,
      "metadata": {
        "id": "24zrSV0UxkVK"
      },
      "outputs": [],
      "source": [
        "from tensorflow import keras\n",
        "from keras import Sequential\n",
        "from keras.layers import Dense, Embedding, LSTM, Dropout\n",
        "import tensorflow as tf \n",
        "\n",
        "\n",
        "fmodel = tf.keras.models.Sequential()\n",
        "fmodel.add(LSTM(units = 50, activation = 'relu', recurrent_activation = 'tanh', return_sequences = True, recurrent_dropout = 0, dropout = 0.25 ))\n",
        "fmodel.add(Dense(1, activation = 'sigmoid'))\n",
        "fmodel.compile(optimizer = keras.optimizers.Adam(learning_rate = 0.01), loss = tf.keras.losses.binary_crossentropy, metrics = ['accuracy'])\n",
        "\n"
      ]
    },
    {
      "cell_type": "code",
      "execution_count": 23,
      "metadata": {
        "id": "BDei0oBM1aRG"
      },
      "outputs": [],
      "source": [
        "from sklearn.model_selection import train_test_split\n",
        "\n",
        "x_train, x_test, y_train, y_test = train_test_split(output, data['valid'], random_state = 0 )"
      ]
    },
    {
      "cell_type": "code",
      "execution_count": null,
      "metadata": {
        "id": "EAp-lM4K0f6d",
        "colab": {
          "base_uri": "https://localhost:8080/"
        },
        "outputId": "10c0dd12-fdd8-4e59-965e-a23b9514a7f7"
      },
      "outputs": [
        {
          "output_type": "stream",
          "name": "stdout",
          "text": [
            "Epoch 1/15\n",
            "81/81 [==============================] - 34s 380ms/step - loss: nan - accuracy: 0.4229 - val_loss: nan - val_accuracy: 0.4685\n",
            "Epoch 2/15\n",
            "81/81 [==============================] - 31s 378ms/step - loss: nan - accuracy: 0.4231 - val_loss: nan - val_accuracy: 0.4685\n",
            "Epoch 3/15\n",
            "81/81 [==============================] - 32s 393ms/step - loss: nan - accuracy: 0.4231 - val_loss: nan - val_accuracy: 0.4685\n",
            "Epoch 4/15\n",
            "81/81 [==============================] - 32s 391ms/step - loss: nan - accuracy: 0.4231 - val_loss: nan - val_accuracy: 0.4685\n",
            "Epoch 5/15\n",
            "81/81 [==============================] - 30s 376ms/step - loss: nan - accuracy: 0.4231 - val_loss: nan - val_accuracy: 0.4685\n",
            "Epoch 6/15\n",
            "81/81 [==============================] - 31s 389ms/step - loss: nan - accuracy: 0.4231 - val_loss: nan - val_accuracy: 0.4685\n",
            "Epoch 7/15\n",
            "81/81 [==============================] - 32s 395ms/step - loss: nan - accuracy: 0.4231 - val_loss: nan - val_accuracy: 0.4685\n",
            "Epoch 8/15\n",
            "81/81 [==============================] - 29s 364ms/step - loss: nan - accuracy: 0.4231 - val_loss: nan - val_accuracy: 0.4685\n",
            "Epoch 9/15\n",
            "81/81 [==============================] - 30s 370ms/step - loss: nan - accuracy: 0.4231 - val_loss: nan - val_accuracy: 0.4685\n",
            "Epoch 10/15\n",
            "81/81 [==============================] - 29s 364ms/step - loss: nan - accuracy: 0.4231 - val_loss: nan - val_accuracy: 0.4685\n",
            "Epoch 11/15\n",
            "81/81 [==============================] - 30s 377ms/step - loss: nan - accuracy: 0.4231 - val_loss: nan - val_accuracy: 0.4685\n",
            "Epoch 12/15\n",
            "81/81 [==============================] - 29s 363ms/step - loss: nan - accuracy: 0.4231 - val_loss: nan - val_accuracy: 0.4685\n",
            "Epoch 13/15\n",
            "77/81 [===========================>..] - ETA: 1s - loss: nan - accuracy: 0.4213"
          ]
        }
      ],
      "source": [
        "history = fmodel.fit(x_train, y_train, validation_split = 0.1 , epochs = 13)\n",
        "#Ran out of RAM before 13th epoch could conclude"
      ]
    }
  ],
  "metadata": {
    "accelerator": "GPU",
    "colab": {
      "collapsed_sections": [],
      "name": "LIAR-BERT",
      "provenance": []
    },
    "gpuClass": "standard",
    "kernelspec": {
      "display_name": "Python 3",
      "name": "python3"
    },
    "language_info": {
      "name": "python"
    },
    "widgets": {
      "application/vnd.jupyter.widget-state+json": {
        "8a96ba67551149d3b2489b7cc9dbc827": {
          "model_module": "@jupyter-widgets/controls",
          "model_name": "HBoxModel",
          "model_module_version": "1.5.0",
          "state": {
            "_dom_classes": [],
            "_model_module": "@jupyter-widgets/controls",
            "_model_module_version": "1.5.0",
            "_model_name": "HBoxModel",
            "_view_count": null,
            "_view_module": "@jupyter-widgets/controls",
            "_view_module_version": "1.5.0",
            "_view_name": "HBoxView",
            "box_style": "",
            "children": [
              "IPY_MODEL_e4694eec58144029a51ecda2bf84ec4f",
              "IPY_MODEL_2dac8396c84e42f4a9809600d3514a03",
              "IPY_MODEL_364dbeb5e0a14c33a33bbc3af56e2c57"
            ],
            "layout": "IPY_MODEL_7f96654c119f4ec897af3eed695bde4e"
          }
        },
        "e4694eec58144029a51ecda2bf84ec4f": {
          "model_module": "@jupyter-widgets/controls",
          "model_name": "HTMLModel",
          "model_module_version": "1.5.0",
          "state": {
            "_dom_classes": [],
            "_model_module": "@jupyter-widgets/controls",
            "_model_module_version": "1.5.0",
            "_model_name": "HTMLModel",
            "_view_count": null,
            "_view_module": "@jupyter-widgets/controls",
            "_view_module_version": "1.5.0",
            "_view_name": "HTMLView",
            "description": "",
            "description_tooltip": null,
            "layout": "IPY_MODEL_de4d15768c1e47f99ac3d221bb89da55",
            "placeholder": "​",
            "style": "IPY_MODEL_4ca44d56bf8741128cffb8fe0a3fb8c8",
            "value": "Downloading: 100%"
          }
        },
        "2dac8396c84e42f4a9809600d3514a03": {
          "model_module": "@jupyter-widgets/controls",
          "model_name": "FloatProgressModel",
          "model_module_version": "1.5.0",
          "state": {
            "_dom_classes": [],
            "_model_module": "@jupyter-widgets/controls",
            "_model_module_version": "1.5.0",
            "_model_name": "FloatProgressModel",
            "_view_count": null,
            "_view_module": "@jupyter-widgets/controls",
            "_view_module_version": "1.5.0",
            "_view_name": "ProgressView",
            "bar_style": "success",
            "description": "",
            "description_tooltip": null,
            "layout": "IPY_MODEL_06ed7fbcaad54c8cb6563e9653421c1f",
            "max": 466062,
            "min": 0,
            "orientation": "horizontal",
            "style": "IPY_MODEL_61e2795f27c749f68c7999d1c6bbfbe6",
            "value": 466062
          }
        },
        "364dbeb5e0a14c33a33bbc3af56e2c57": {
          "model_module": "@jupyter-widgets/controls",
          "model_name": "HTMLModel",
          "model_module_version": "1.5.0",
          "state": {
            "_dom_classes": [],
            "_model_module": "@jupyter-widgets/controls",
            "_model_module_version": "1.5.0",
            "_model_name": "HTMLModel",
            "_view_count": null,
            "_view_module": "@jupyter-widgets/controls",
            "_view_module_version": "1.5.0",
            "_view_name": "HTMLView",
            "description": "",
            "description_tooltip": null,
            "layout": "IPY_MODEL_1965ca9a12834a95ab71d7f8916fb9b5",
            "placeholder": "​",
            "style": "IPY_MODEL_5e8a2d4637eb41df80297f786833a1f1",
            "value": " 466k/466k [00:01&lt;00:00, 534kB/s]"
          }
        },
        "7f96654c119f4ec897af3eed695bde4e": {
          "model_module": "@jupyter-widgets/base",
          "model_name": "LayoutModel",
          "model_module_version": "1.2.0",
          "state": {
            "_model_module": "@jupyter-widgets/base",
            "_model_module_version": "1.2.0",
            "_model_name": "LayoutModel",
            "_view_count": null,
            "_view_module": "@jupyter-widgets/base",
            "_view_module_version": "1.2.0",
            "_view_name": "LayoutView",
            "align_content": null,
            "align_items": null,
            "align_self": null,
            "border": null,
            "bottom": null,
            "display": null,
            "flex": null,
            "flex_flow": null,
            "grid_area": null,
            "grid_auto_columns": null,
            "grid_auto_flow": null,
            "grid_auto_rows": null,
            "grid_column": null,
            "grid_gap": null,
            "grid_row": null,
            "grid_template_areas": null,
            "grid_template_columns": null,
            "grid_template_rows": null,
            "height": null,
            "justify_content": null,
            "justify_items": null,
            "left": null,
            "margin": null,
            "max_height": null,
            "max_width": null,
            "min_height": null,
            "min_width": null,
            "object_fit": null,
            "object_position": null,
            "order": null,
            "overflow": null,
            "overflow_x": null,
            "overflow_y": null,
            "padding": null,
            "right": null,
            "top": null,
            "visibility": null,
            "width": null
          }
        },
        "de4d15768c1e47f99ac3d221bb89da55": {
          "model_module": "@jupyter-widgets/base",
          "model_name": "LayoutModel",
          "model_module_version": "1.2.0",
          "state": {
            "_model_module": "@jupyter-widgets/base",
            "_model_module_version": "1.2.0",
            "_model_name": "LayoutModel",
            "_view_count": null,
            "_view_module": "@jupyter-widgets/base",
            "_view_module_version": "1.2.0",
            "_view_name": "LayoutView",
            "align_content": null,
            "align_items": null,
            "align_self": null,
            "border": null,
            "bottom": null,
            "display": null,
            "flex": null,
            "flex_flow": null,
            "grid_area": null,
            "grid_auto_columns": null,
            "grid_auto_flow": null,
            "grid_auto_rows": null,
            "grid_column": null,
            "grid_gap": null,
            "grid_row": null,
            "grid_template_areas": null,
            "grid_template_columns": null,
            "grid_template_rows": null,
            "height": null,
            "justify_content": null,
            "justify_items": null,
            "left": null,
            "margin": null,
            "max_height": null,
            "max_width": null,
            "min_height": null,
            "min_width": null,
            "object_fit": null,
            "object_position": null,
            "order": null,
            "overflow": null,
            "overflow_x": null,
            "overflow_y": null,
            "padding": null,
            "right": null,
            "top": null,
            "visibility": null,
            "width": null
          }
        },
        "4ca44d56bf8741128cffb8fe0a3fb8c8": {
          "model_module": "@jupyter-widgets/controls",
          "model_name": "DescriptionStyleModel",
          "model_module_version": "1.5.0",
          "state": {
            "_model_module": "@jupyter-widgets/controls",
            "_model_module_version": "1.5.0",
            "_model_name": "DescriptionStyleModel",
            "_view_count": null,
            "_view_module": "@jupyter-widgets/base",
            "_view_module_version": "1.2.0",
            "_view_name": "StyleView",
            "description_width": ""
          }
        },
        "06ed7fbcaad54c8cb6563e9653421c1f": {
          "model_module": "@jupyter-widgets/base",
          "model_name": "LayoutModel",
          "model_module_version": "1.2.0",
          "state": {
            "_model_module": "@jupyter-widgets/base",
            "_model_module_version": "1.2.0",
            "_model_name": "LayoutModel",
            "_view_count": null,
            "_view_module": "@jupyter-widgets/base",
            "_view_module_version": "1.2.0",
            "_view_name": "LayoutView",
            "align_content": null,
            "align_items": null,
            "align_self": null,
            "border": null,
            "bottom": null,
            "display": null,
            "flex": null,
            "flex_flow": null,
            "grid_area": null,
            "grid_auto_columns": null,
            "grid_auto_flow": null,
            "grid_auto_rows": null,
            "grid_column": null,
            "grid_gap": null,
            "grid_row": null,
            "grid_template_areas": null,
            "grid_template_columns": null,
            "grid_template_rows": null,
            "height": null,
            "justify_content": null,
            "justify_items": null,
            "left": null,
            "margin": null,
            "max_height": null,
            "max_width": null,
            "min_height": null,
            "min_width": null,
            "object_fit": null,
            "object_position": null,
            "order": null,
            "overflow": null,
            "overflow_x": null,
            "overflow_y": null,
            "padding": null,
            "right": null,
            "top": null,
            "visibility": null,
            "width": null
          }
        },
        "61e2795f27c749f68c7999d1c6bbfbe6": {
          "model_module": "@jupyter-widgets/controls",
          "model_name": "ProgressStyleModel",
          "model_module_version": "1.5.0",
          "state": {
            "_model_module": "@jupyter-widgets/controls",
            "_model_module_version": "1.5.0",
            "_model_name": "ProgressStyleModel",
            "_view_count": null,
            "_view_module": "@jupyter-widgets/base",
            "_view_module_version": "1.2.0",
            "_view_name": "StyleView",
            "bar_color": null,
            "description_width": ""
          }
        },
        "1965ca9a12834a95ab71d7f8916fb9b5": {
          "model_module": "@jupyter-widgets/base",
          "model_name": "LayoutModel",
          "model_module_version": "1.2.0",
          "state": {
            "_model_module": "@jupyter-widgets/base",
            "_model_module_version": "1.2.0",
            "_model_name": "LayoutModel",
            "_view_count": null,
            "_view_module": "@jupyter-widgets/base",
            "_view_module_version": "1.2.0",
            "_view_name": "LayoutView",
            "align_content": null,
            "align_items": null,
            "align_self": null,
            "border": null,
            "bottom": null,
            "display": null,
            "flex": null,
            "flex_flow": null,
            "grid_area": null,
            "grid_auto_columns": null,
            "grid_auto_flow": null,
            "grid_auto_rows": null,
            "grid_column": null,
            "grid_gap": null,
            "grid_row": null,
            "grid_template_areas": null,
            "grid_template_columns": null,
            "grid_template_rows": null,
            "height": null,
            "justify_content": null,
            "justify_items": null,
            "left": null,
            "margin": null,
            "max_height": null,
            "max_width": null,
            "min_height": null,
            "min_width": null,
            "object_fit": null,
            "object_position": null,
            "order": null,
            "overflow": null,
            "overflow_x": null,
            "overflow_y": null,
            "padding": null,
            "right": null,
            "top": null,
            "visibility": null,
            "width": null
          }
        },
        "5e8a2d4637eb41df80297f786833a1f1": {
          "model_module": "@jupyter-widgets/controls",
          "model_name": "DescriptionStyleModel",
          "model_module_version": "1.5.0",
          "state": {
            "_model_module": "@jupyter-widgets/controls",
            "_model_module_version": "1.5.0",
            "_model_name": "DescriptionStyleModel",
            "_view_count": null,
            "_view_module": "@jupyter-widgets/base",
            "_view_module_version": "1.2.0",
            "_view_name": "StyleView",
            "description_width": ""
          }
        }
      }
    }
  },
  "nbformat": 4,
  "nbformat_minor": 0
}
